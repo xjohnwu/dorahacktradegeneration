{
 "cells": [
  {
   "cell_type": "code",
   "execution_count": 1,
   "metadata": {},
   "outputs": [],
   "source": [
    "import pandas as pd\n",
    "from vaderSentiment.vaderSentiment import SentimentIntensityAnalyzer\n",
    "import matplotlib.pyplot as plt\n",
    "import seaborn as sns; sns.set()\n",
    "%matplotlib inline\n",
    "import nltk\n",
    "import math\n",
    "import numpy as np"
   ]
  },
  {
   "cell_type": "code",
   "execution_count": 2,
   "metadata": {},
   "outputs": [],
   "source": [
    "### read data\n",
    "data = pd.read_csv('/Users/mac/Dropbox/Git/dorahacktradegeneration/data/bitcoin_201810.csv')\n",
    "sentences = data['title'].tolist()"
   ]
  },
  {
   "cell_type": "code",
   "execution_count": 3,
   "metadata": {},
   "outputs": [
    {
     "data": {
      "text/html": [
       "<div>\n",
       "<style scoped>\n",
       "    .dataframe tbody tr th:only-of-type {\n",
       "        vertical-align: middle;\n",
       "    }\n",
       "\n",
       "    .dataframe tbody tr th {\n",
       "        vertical-align: top;\n",
       "    }\n",
       "\n",
       "    .dataframe thead th {\n",
       "        text-align: right;\n",
       "    }\n",
       "</style>\n",
       "<table border=\"1\" class=\"dataframe\">\n",
       "  <thead>\n",
       "    <tr style=\"text-align: right;\">\n",
       "      <th></th>\n",
       "      <th>compound</th>\n",
       "      <th>headline</th>\n",
       "      <th>neg</th>\n",
       "      <th>neu</th>\n",
       "      <th>pos</th>\n",
       "      <th>time</th>\n",
       "      <th>label</th>\n",
       "    </tr>\n",
       "  </thead>\n",
       "  <tbody>\n",
       "    <tr>\n",
       "      <th>0</th>\n",
       "      <td>0.0000</td>\n",
       "      <td>Overall Ledgerium is a company that brings Blo...</td>\n",
       "      <td>0.0</td>\n",
       "      <td>1.0</td>\n",
       "      <td>0.0</td>\n",
       "      <td>01/10/2018 00:10:35</td>\n",
       "      <td>0</td>\n",
       "    </tr>\n",
       "    <tr>\n",
       "      <th>1</th>\n",
       "      <td>0.0000</td>\n",
       "      <td>Amateur Cryptojackers and Apple Macs Emerge as...</td>\n",
       "      <td>0.0</td>\n",
       "      <td>1.0</td>\n",
       "      <td>0.0</td>\n",
       "      <td>01/10/2018 00:12:28</td>\n",
       "      <td>0</td>\n",
       "    </tr>\n",
       "    <tr>\n",
       "      <th>2</th>\n",
       "      <td>0.4588</td>\n",
       "      <td>Arbitrage trading and how to benefit from it</td>\n",
       "      <td>0.0</td>\n",
       "      <td>0.7</td>\n",
       "      <td>0.3</td>\n",
       "      <td>01/10/2018 00:18:15</td>\n",
       "      <td>1</td>\n",
       "    </tr>\n",
       "    <tr>\n",
       "      <th>3</th>\n",
       "      <td>0.0000</td>\n",
       "      <td>Bitcoin Girls [Music Video]</td>\n",
       "      <td>0.0</td>\n",
       "      <td>1.0</td>\n",
       "      <td>0.0</td>\n",
       "      <td>01/10/2018 00:22:00</td>\n",
       "      <td>0</td>\n",
       "    </tr>\n",
       "    <tr>\n",
       "      <th>4</th>\n",
       "      <td>0.0000</td>\n",
       "      <td>How Binance Decentralized Exchange Launch in 2...</td>\n",
       "      <td>0.0</td>\n",
       "      <td>1.0</td>\n",
       "      <td>0.0</td>\n",
       "      <td>01/10/2018 00:28:31</td>\n",
       "      <td>0</td>\n",
       "    </tr>\n",
       "  </tbody>\n",
       "</table>\n",
       "</div>"
      ],
      "text/plain": [
       "   compound                                           headline  neg  neu  pos  \\\n",
       "0    0.0000  Overall Ledgerium is a company that brings Blo...  0.0  1.0  0.0   \n",
       "1    0.0000  Amateur Cryptojackers and Apple Macs Emerge as...  0.0  1.0  0.0   \n",
       "2    0.4588       Arbitrage trading and how to benefit from it  0.0  0.7  0.3   \n",
       "3    0.0000                        Bitcoin Girls [Music Video]  0.0  1.0  0.0   \n",
       "4    0.0000  How Binance Decentralized Exchange Launch in 2...  0.0  1.0  0.0   \n",
       "\n",
       "                  time  label  \n",
       "0  01/10/2018 00:10:35      0  \n",
       "1  01/10/2018 00:12:28      0  \n",
       "2  01/10/2018 00:18:15      1  \n",
       "3  01/10/2018 00:22:00      0  \n",
       "4  01/10/2018 00:28:31      0  "
      ]
     },
     "execution_count": 3,
     "metadata": {},
     "output_type": "execute_result"
    }
   ],
   "source": [
    "## label data\n",
    "analyzer = SentimentIntensityAnalyzer()\n",
    "store = {\n",
    "        'time' :[],\n",
    "        'headline': [],\n",
    "        'compound': [],\n",
    "        'neg': [],\n",
    "        'neu': [],\n",
    "        'pos': []\n",
    "        }\n",
    "for sentence in sentences:\n",
    "    vs = analyzer.polarity_scores(sentence)\n",
    "    store['headline'].append(sentence)\n",
    "    store['compound'].append(vs['compound'])\n",
    "    store['neg'].append(vs['neg'])\n",
    "    store['neu'].append(vs['neu'])\n",
    "    store['pos'].append(vs['pos'])\n",
    "\n",
    "for t in data['CreatedUtc']:\n",
    "    store['time'].append(t)\n",
    "    \n",
    "df = pd.DataFrame.from_records(store)\n",
    "df.head()    \n",
    "df['label'] = 0\n",
    "df.loc[df['compound'] > 0.2, 'label'] = 1\n",
    "df.loc[df['compound'] < -0.2, 'label'] = -1\n",
    "df.head()    "
   ]
  },
  {
   "cell_type": "code",
   "execution_count": 4,
   "metadata": {},
   "outputs": [
    {
     "name": "stdout",
     "output_type": "stream",
     "text": [
      "Positive headlines:\n",
      "\n",
      "['Arbitrage trading and how to benefit from it', 'Free btc', 'telegram bitcoin faucet i earn 20$ in 3 days legit newest 2018 im not lying', 'KIẾM FREE BTC Daily Bitcoin Bonus up to 4 BTC shared each day', \"I'm trying to convince this restaurant to start accepting bitcoin! Help me out!\"]\n",
      "\n",
      "Negative headlines:\n",
      "\n",
      "['Many big people criticize Bitcoin without knowing it properly.', 'Why did bitcoin fail?', \"Shower thought: Cash 2.0 - GOVs wanted to get rid of cash anyway. Isn't Bitcoin a good way to achieve that? Nudge nudge, say no more.\", 'Google Fraud Fighter Explains Risks Involved in Boasting About Owning Bitcoin', \"When certain failed fork coins attempt to keep up with Bitcoin's 92% hashrate (and price)\"]\n",
      " 0    2942\n",
      " 1    1419\n",
      "-1     658\n",
      "Name: label, dtype: int64\n",
      " 0    58.617254\n",
      " 1    28.272564\n",
      "-1    13.110181\n",
      "Name: label, dtype: float64\n"
     ]
    }
   ],
   "source": [
    "print(\"Positive headlines:\\n\")\n",
    "print(list(df[df['label'] == 1].headline)[:5])\n",
    "\n",
    "print(\"\\nNegative headlines:\\n\")\n",
    "print(list(df[df['label'] == -1].headline)[:5])\n",
    "\n",
    "\n",
    "print(df.label.value_counts())\n",
    "print(df.label.value_counts(normalize=True) * 100)\n"
   ]
  },
  {
   "cell_type": "code",
   "execution_count": 5,
   "metadata": {},
   "outputs": [
    {
     "name": "stderr",
     "output_type": "stream",
     "text": [
      "/anaconda/lib/python3.6/site-packages/seaborn/categorical.py:1460: FutureWarning: remove_na is deprecated and is a private function. Do not use.\n",
      "  stat_data = remove_na(group_data)\n"
     ]
    },
    {
     "data": {
      "text/plain": [
       "Text(0,0.5,'Percentage')"
      ]
     },
     "execution_count": 5,
     "metadata": {},
     "output_type": "execute_result"
    },
    {
     "data": {
      "image/png": "[encoded data removed]",
      "text/plain": [
       "<matplotlib.figure.Figure at 0x115e31ba8>"
      ]
     },
     "metadata": {},
     "output_type": "display_data"
    }
   ],
   "source": [
    "fig, ax = plt.subplots(figsize=(10, 5))\n",
    "\n",
    "counts = df.label.value_counts(normalize=True) * 100\n",
    "\n",
    "sns.barplot(x=counts.index, y=counts, ax=ax)\n",
    "\n",
    "ax.set_xticklabels(['Negative', 'Neutral', 'Positive'])\n",
    "ax.set_ylabel(\"Percentage\")"
   ]
  },
  {
   "cell_type": "code",
   "execution_count": 6,
   "metadata": {
    "scrolled": true
   },
   "outputs": [],
   "source": [
    "# tokenize words\n",
    "from nltk.tokenize import word_tokenize, RegexpTokenizer\n",
    "example = \"This is an example sentence! However, it isn't a very informative one\"\n",
    "tokenizer = RegexpTokenizer(r'\\w+')\n",
    "tokenizer.tokenize(example)\n",
    "\n",
    "# get stop_words\n",
    "from nltk.corpus import stopwords\n",
    "stop_words = stopwords.words('english')\n",
    "\n",
    "def process_text(headlines):\n",
    "    tokens = []\n",
    "    for line in headlines:\n",
    "        toks = tokenizer.tokenize(line)\n",
    "        toks = [t.lower() for t in toks if t.lower() not in stop_words]\n",
    "        tokens.extend(toks)\n",
    "    \n",
    "    return tokens"
   ]
  },
  {
   "cell_type": "code",
   "execution_count": 7,
   "metadata": {},
   "outputs": [
    {
     "data": {
      "text/plain": [
       "[('bitcoin', 600),\n",
       " ('btc', 159),\n",
       " ('crypto', 152),\n",
       " ('free', 126),\n",
       " ('best', 86),\n",
       " ('cryptocurrency', 80),\n",
       " ('get', 78),\n",
       " ('help', 74),\n",
       " ('blockchain', 73),\n",
       " ('earn', 70),\n",
       " ('exchange', 59),\n",
       " ('new', 59),\n",
       " ('like', 47),\n",
       " ('mining', 45),\n",
       " ('one', 42),\n",
       " ('good', 41),\n",
       " ('wallet', 41),\n",
       " ('trading', 40),\n",
       " ('pivot', 40),\n",
       " ('amp', 40)]"
      ]
     },
     "execution_count": 7,
     "metadata": {},
     "output_type": "execute_result"
    }
   ],
   "source": [
    "# positive words \n",
    "# We can grab all of the positive label headlines \n",
    "pos_lines = list(df[df.label == 1].headline)\n",
    "\n",
    "pos_tokens = process_text(pos_lines)\n",
    "pos_freq = nltk.FreqDist(pos_tokens)\n",
    "\n",
    "pos_freq.most_common(20)"
   ]
  },
  {
   "cell_type": "code",
   "execution_count": 8,
   "metadata": {},
   "outputs": [
    {
     "data": {
      "image/png": "[encoded data removed]",
      "text/plain": [
       "<matplotlib.figure.Figure at 0x115c4deb8>"
      ]
     },
     "metadata": {},
     "output_type": "display_data"
    }
   ],
   "source": [
    "y_val = [x[1] for x in pos_freq.most_common()]\n",
    "\n",
    "fig = plt.figure(figsize=(10,5))\n",
    "plt.plot(y_val)\n",
    "\n",
    "plt.xlabel(\"Words\")\n",
    "plt.ylabel(\"Frequency\")\n",
    "plt.title(\"Word Frequency Distribution (Positive)\")\n",
    "plt.show()"
   ]
  },
  {
   "cell_type": "code",
   "execution_count": 9,
   "metadata": {},
   "outputs": [
    {
     "data": {
      "text/plain": [
       "[<matplotlib.lines.Line2D at 0x116462d30>]"
      ]
     },
     "execution_count": 9,
     "metadata": {},
     "output_type": "execute_result"
    },
    {
     "data": {
      "image/png": "[encoded data removed]",
      "text/plain": [
       "<matplotlib.figure.Figure at 0x1163590b8>"
      ]
     },
     "metadata": {},
     "output_type": "display_data"
    }
   ],
   "source": [
    "y_final = []\n",
    "for i, k, z, t in zip(y_val[0::4], y_val[1::4], y_val[2::4], y_val[3::4]):\n",
    "    y_final.append(math.log(i + k + z + t))\n",
    "\n",
    "x_val = [math.log(i + 1) for i in range(len(y_final))]\n",
    "\n",
    "fig = plt.figure(figsize=(10,5))\n",
    "\n",
    "plt.xlabel(\"Words (Log)\")\n",
    "plt.ylabel(\"Frequency (Log)\")\n",
    "plt.title(\"Word Frequency Distribution (Positive)\")\n",
    "plt.plot(x_val, y_final)"
   ]
  },
  {
   "cell_type": "code",
   "execution_count": 10,
   "metadata": {},
   "outputs": [
    {
     "data": {
      "text/plain": [
       "[('bitcoin', 341),\n",
       " ('crypto', 73),\n",
       " ('scam', 46),\n",
       " ('btc', 44),\n",
       " ('price', 34),\n",
       " ('cryptocurrency', 34),\n",
       " ('money', 29),\n",
       " ('tether', 28),\n",
       " ('new', 27),\n",
       " ('people', 22),\n",
       " ('blockchain', 22),\n",
       " ('exchange', 21),\n",
       " ('block', 21),\n",
       " ('mining', 21),\n",
       " ('market', 21),\n",
       " ('amp', 19),\n",
       " ('time', 19),\n",
       " ('could', 18),\n",
       " ('one', 18),\n",
       " ('news', 18)]"
      ]
     },
     "execution_count": 10,
     "metadata": {},
     "output_type": "execute_result"
    }
   ],
   "source": [
    "# negative words\n",
    "df2 = df[['headline', 'label']]\n",
    "\n",
    "neg_lines = list(df2[df2.label == -1].headline)\n",
    "\n",
    "neg_tokens = process_text(neg_lines)\n",
    "neg_freq = nltk.FreqDist(neg_tokens)\n",
    "\n",
    "neg_freq.most_common(20)"
   ]
  },
  {
   "cell_type": "code",
   "execution_count": 11,
   "metadata": {},
   "outputs": [
    {
     "data": {
      "text/plain": [
       "Text(0.5,1,'Word Frequency Distribution (Negative)')"
      ]
     },
     "execution_count": 11,
     "metadata": {},
     "output_type": "execute_result"
    },
    {
     "data": {
      "image/png": "[encoded data removed]",
      "text/plain": [
       "<matplotlib.figure.Figure at 0x1165a3d30>"
      ]
     },
     "metadata": {},
     "output_type": "display_data"
    }
   ],
   "source": [
    "y_val = [x[1] for x in neg_freq.most_common()]\n",
    "\n",
    "fig = plt.figure(figsize=(10,5))\n",
    "plt.plot(y_val)\n",
    "\n",
    "plt.xlabel(\"Words\")\n",
    "plt.ylabel(\"Frequency\")\n",
    "plt.title(\"Word Frequency Distribution (Negative)\")"
   ]
  },
  {
   "cell_type": "code",
   "execution_count": 12,
   "metadata": {},
   "outputs": [
    {
     "data": {
      "text/plain": [
       "[<matplotlib.lines.Line2D at 0x1166fb2e8>]"
      ]
     },
     "execution_count": 12,
     "metadata": {},
     "output_type": "execute_result"
    },
    {
     "data": {
      "image/png": "[encoded data removed]",
      "text/plain": [
       "<matplotlib.figure.Figure at 0x1165efda0>"
      ]
     },
     "metadata": {},
     "output_type": "display_data"
    }
   ],
   "source": [
    "y_final = []\n",
    "for i, k, z in zip(y_val[0::3], y_val[1::3], y_val[2::3]):\n",
    "    if i + k + z == 0:\n",
    "        break\n",
    "    y_final.append(math.log(i + k + z))\n",
    "\n",
    "x_val = [math.log(i+1) for i in range(len(y_final))]\n",
    "\n",
    "fig = plt.figure(figsize=(10,5))\n",
    "\n",
    "plt.xlabel(\"Words (Log)\")\n",
    "plt.ylabel(\"Frequency (Log)\")\n",
    "plt.title(\"Word Frequency Distribution (Negative)\")\n",
    "plt.plot(x_val, y_final)"
   ]
  },
  {
   "cell_type": "code",
   "execution_count": null,
   "metadata": {},
   "outputs": [],
   "source": []
  },
  {
   "cell_type": "code",
   "execution_count": 13,
   "metadata": {},
   "outputs": [],
   "source": [
    "####  time distritution\n",
    "df['time'] = pd.to_datetime(df['time'],dayfirst=True)\n",
    "df.index= df['time']\n",
    "\n",
    "new_data = {\n",
    "    'time': [],\n",
    "    'positive_count' : [],\n",
    "    'negative_count' : [],\n",
    "    'neutral_count' :[]\n",
    "}\n"
   ]
  },
  {
   "cell_type": "code",
   "execution_count": 14,
   "metadata": {},
   "outputs": [],
   "source": [
    "time_day = np.unique(df.index.strftime(\"%Y-%m-%d\"))\n",
    "\n",
    "for i in range(len(time_day)):\n",
    "    dd = df[df.index.strftime(\"%Y-%m-%d\")==time_day[i]]\n",
    "    new_data['time'].append(time_day[i])\n",
    "    new_data['positive_count'].append(sum(dd['label'] == 1))\n",
    "    new_data['neutral_count'].append(sum(dd['label'] == 0))\n",
    "    new_data['negative_count'].append(sum(dd['label'] == -1))\n",
    "\n",
    "df_day = pd.DataFrame.from_records(new_data)\n",
    "df_day['ratio'] = df_day['positive_count'] /(df_day['positive_count'] + df_day['negative_count'])\n",
    "df_day['volume'] = df_day['positive_count'] + df_day['negative_count']\n"
   ]
  },
  {
   "cell_type": "code",
   "execution_count": 16,
   "metadata": {},
   "outputs": [
    {
     "data": {
      "text/html": [
       "<div>\n",
       "<style scoped>\n",
       "    .dataframe tbody tr th:only-of-type {\n",
       "        vertical-align: middle;\n",
       "    }\n",
       "\n",
       "    .dataframe tbody tr th {\n",
       "        vertical-align: top;\n",
       "    }\n",
       "\n",
       "    .dataframe thead th {\n",
       "        text-align: right;\n",
       "    }\n",
       "</style>\n",
       "<table border=\"1\" class=\"dataframe\">\n",
       "  <thead>\n",
       "    <tr style=\"text-align: right;\">\n",
       "      <th></th>\n",
       "      <th>negative_count</th>\n",
       "      <th>neutral_count</th>\n",
       "      <th>positive_count</th>\n",
       "      <th>time</th>\n",
       "      <th>ratio</th>\n",
       "      <th>volume</th>\n",
       "    </tr>\n",
       "  </thead>\n",
       "  <tbody>\n",
       "    <tr>\n",
       "      <th>0</th>\n",
       "      <td>25</td>\n",
       "      <td>154</td>\n",
       "      <td>85</td>\n",
       "      <td>2018-10-01</td>\n",
       "      <td>0.772727</td>\n",
       "      <td>110</td>\n",
       "    </tr>\n",
       "    <tr>\n",
       "      <th>1</th>\n",
       "      <td>35</td>\n",
       "      <td>155</td>\n",
       "      <td>85</td>\n",
       "      <td>2018-10-02</td>\n",
       "      <td>0.708333</td>\n",
       "      <td>120</td>\n",
       "    </tr>\n",
       "    <tr>\n",
       "      <th>2</th>\n",
       "      <td>42</td>\n",
       "      <td>163</td>\n",
       "      <td>78</td>\n",
       "      <td>2018-10-03</td>\n",
       "      <td>0.650000</td>\n",
       "      <td>120</td>\n",
       "    </tr>\n",
       "    <tr>\n",
       "      <th>3</th>\n",
       "      <td>35</td>\n",
       "      <td>150</td>\n",
       "      <td>88</td>\n",
       "      <td>2018-10-04</td>\n",
       "      <td>0.715447</td>\n",
       "      <td>123</td>\n",
       "    </tr>\n",
       "    <tr>\n",
       "      <th>4</th>\n",
       "      <td>36</td>\n",
       "      <td>153</td>\n",
       "      <td>75</td>\n",
       "      <td>2018-10-05</td>\n",
       "      <td>0.675676</td>\n",
       "      <td>111</td>\n",
       "    </tr>\n",
       "    <tr>\n",
       "      <th>5</th>\n",
       "      <td>22</td>\n",
       "      <td>112</td>\n",
       "      <td>42</td>\n",
       "      <td>2018-10-06</td>\n",
       "      <td>0.656250</td>\n",
       "      <td>64</td>\n",
       "    </tr>\n",
       "    <tr>\n",
       "      <th>6</th>\n",
       "      <td>16</td>\n",
       "      <td>105</td>\n",
       "      <td>44</td>\n",
       "      <td>2018-10-07</td>\n",
       "      <td>0.733333</td>\n",
       "      <td>60</td>\n",
       "    </tr>\n",
       "    <tr>\n",
       "      <th>7</th>\n",
       "      <td>29</td>\n",
       "      <td>137</td>\n",
       "      <td>69</td>\n",
       "      <td>2018-10-08</td>\n",
       "      <td>0.704082</td>\n",
       "      <td>98</td>\n",
       "    </tr>\n",
       "    <tr>\n",
       "      <th>8</th>\n",
       "      <td>28</td>\n",
       "      <td>153</td>\n",
       "      <td>81</td>\n",
       "      <td>2018-10-09</td>\n",
       "      <td>0.743119</td>\n",
       "      <td>109</td>\n",
       "    </tr>\n",
       "    <tr>\n",
       "      <th>9</th>\n",
       "      <td>47</td>\n",
       "      <td>142</td>\n",
       "      <td>68</td>\n",
       "      <td>2018-10-10</td>\n",
       "      <td>0.591304</td>\n",
       "      <td>115</td>\n",
       "    </tr>\n",
       "    <tr>\n",
       "      <th>10</th>\n",
       "      <td>55</td>\n",
       "      <td>182</td>\n",
       "      <td>69</td>\n",
       "      <td>2018-10-11</td>\n",
       "      <td>0.556452</td>\n",
       "      <td>124</td>\n",
       "    </tr>\n",
       "    <tr>\n",
       "      <th>11</th>\n",
       "      <td>31</td>\n",
       "      <td>144</td>\n",
       "      <td>73</td>\n",
       "      <td>2018-10-12</td>\n",
       "      <td>0.701923</td>\n",
       "      <td>104</td>\n",
       "    </tr>\n",
       "    <tr>\n",
       "      <th>12</th>\n",
       "      <td>21</td>\n",
       "      <td>103</td>\n",
       "      <td>55</td>\n",
       "      <td>2018-10-13</td>\n",
       "      <td>0.723684</td>\n",
       "      <td>76</td>\n",
       "    </tr>\n",
       "    <tr>\n",
       "      <th>13</th>\n",
       "      <td>22</td>\n",
       "      <td>130</td>\n",
       "      <td>59</td>\n",
       "      <td>2018-10-14</td>\n",
       "      <td>0.728395</td>\n",
       "      <td>81</td>\n",
       "    </tr>\n",
       "    <tr>\n",
       "      <th>14</th>\n",
       "      <td>51</td>\n",
       "      <td>215</td>\n",
       "      <td>96</td>\n",
       "      <td>2018-10-15</td>\n",
       "      <td>0.653061</td>\n",
       "      <td>147</td>\n",
       "    </tr>\n",
       "    <tr>\n",
       "      <th>15</th>\n",
       "      <td>37</td>\n",
       "      <td>184</td>\n",
       "      <td>97</td>\n",
       "      <td>2018-10-16</td>\n",
       "      <td>0.723881</td>\n",
       "      <td>134</td>\n",
       "    </tr>\n",
       "    <tr>\n",
       "      <th>16</th>\n",
       "      <td>37</td>\n",
       "      <td>170</td>\n",
       "      <td>81</td>\n",
       "      <td>2018-10-17</td>\n",
       "      <td>0.686441</td>\n",
       "      <td>118</td>\n",
       "    </tr>\n",
       "    <tr>\n",
       "      <th>17</th>\n",
       "      <td>41</td>\n",
       "      <td>159</td>\n",
       "      <td>69</td>\n",
       "      <td>2018-10-18</td>\n",
       "      <td>0.627273</td>\n",
       "      <td>110</td>\n",
       "    </tr>\n",
       "    <tr>\n",
       "      <th>18</th>\n",
       "      <td>37</td>\n",
       "      <td>153</td>\n",
       "      <td>69</td>\n",
       "      <td>2018-10-19</td>\n",
       "      <td>0.650943</td>\n",
       "      <td>106</td>\n",
       "    </tr>\n",
       "    <tr>\n",
       "      <th>19</th>\n",
       "      <td>11</td>\n",
       "      <td>78</td>\n",
       "      <td>36</td>\n",
       "      <td>2018-10-20</td>\n",
       "      <td>0.765957</td>\n",
       "      <td>47</td>\n",
       "    </tr>\n",
       "  </tbody>\n",
       "</table>\n",
       "</div>"
      ],
      "text/plain": [
       "    negative_count  neutral_count  positive_count        time     ratio  \\\n",
       "0               25            154              85  2018-10-01  0.772727   \n",
       "1               35            155              85  2018-10-02  0.708333   \n",
       "2               42            163              78  2018-10-03  0.650000   \n",
       "3               35            150              88  2018-10-04  0.715447   \n",
       "4               36            153              75  2018-10-05  0.675676   \n",
       "5               22            112              42  2018-10-06  0.656250   \n",
       "6               16            105              44  2018-10-07  0.733333   \n",
       "7               29            137              69  2018-10-08  0.704082   \n",
       "8               28            153              81  2018-10-09  0.743119   \n",
       "9               47            142              68  2018-10-10  0.591304   \n",
       "10              55            182              69  2018-10-11  0.556452   \n",
       "11              31            144              73  2018-10-12  0.701923   \n",
       "12              21            103              55  2018-10-13  0.723684   \n",
       "13              22            130              59  2018-10-14  0.728395   \n",
       "14              51            215              96  2018-10-15  0.653061   \n",
       "15              37            184              97  2018-10-16  0.723881   \n",
       "16              37            170              81  2018-10-17  0.686441   \n",
       "17              41            159              69  2018-10-18  0.627273   \n",
       "18              37            153              69  2018-10-19  0.650943   \n",
       "19              11             78              36  2018-10-20  0.765957   \n",
       "\n",
       "    volume  \n",
       "0      110  \n",
       "1      120  \n",
       "2      120  \n",
       "3      123  \n",
       "4      111  \n",
       "5       64  \n",
       "6       60  \n",
       "7       98  \n",
       "8      109  \n",
       "9      115  \n",
       "10     124  \n",
       "11     104  \n",
       "12      76  \n",
       "13      81  \n",
       "14     147  \n",
       "15     134  \n",
       "16     118  \n",
       "17     110  \n",
       "18     106  \n",
       "19      47  "
      ]
     },
     "execution_count": 16,
     "metadata": {},
     "output_type": "execute_result"
    }
   ],
   "source": [
    "df_day"
   ]
  },
  {
   "cell_type": "code",
   "execution_count": null,
   "metadata": {},
   "outputs": [],
   "source": []
  },
  {
   "cell_type": "code",
   "execution_count": null,
   "metadata": {},
   "outputs": [],
   "source": []
  },
  {
   "cell_type": "code",
   "execution_count": null,
   "metadata": {
    "scrolled": true
   },
   "outputs": [],
   "source": []
  },
  {
   "cell_type": "code",
   "execution_count": null,
   "metadata": {},
   "outputs": [],
   "source": []
  },
  {
   "cell_type": "code",
   "execution_count": null,
   "metadata": {},
   "outputs": [],
   "source": []
  },
  {
   "cell_type": "code",
   "execution_count": null,
   "metadata": {},
   "outputs": [],
   "source": []
  },
  {
   "cell_type": "code",
   "execution_count": null,
   "metadata": {},
   "outputs": [],
   "source": [
    "\n",
    "    "
   ]
  },
  {
   "cell_type": "code",
   "execution_count": null,
   "metadata": {},
   "outputs": [],
   "source": []
  },
  {
   "cell_type": "code",
   "execution_count": null,
   "metadata": {},
   "outputs": [],
   "source": []
  },
  {
   "cell_type": "code",
   "execution_count": null,
   "metadata": {},
   "outputs": [],
   "source": []
  },
  {
   "cell_type": "code",
   "execution_count": null,
   "metadata": {},
   "outputs": [],
   "source": []
  }
 ],
 "metadata": {
  "kernelspec": {
   "display_name": "Python 3",
   "language": "python",
   "name": "python3"
  },
  "language_info": {
   "codemirror_mode": {
    "name": "ipython",
    "version": 3
   },
   "file_extension": ".py",
   "mimetype": "text/x-python",
   "name": "python",
   "nbconvert_exporter": "python",
   "pygments_lexer": "ipython3",
   "version": "3.6.3"
  }
 },
 "nbformat": 4,
 "nbformat_minor": 2
}
